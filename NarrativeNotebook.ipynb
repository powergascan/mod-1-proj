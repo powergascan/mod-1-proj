{
 "cells": [
  {
   "cell_type": "code",
   "execution_count": 1,
   "metadata": {},
   "outputs": [],
   "source": [
    "import pandas as pd\n",
    "import pickle\n",
    "import warnings\n",
    "warnings.filterwarnings('ignore')\n",
    "movie_data=pickle.load(open(\"merged_file.pickle\",\"rb\"))"
   ]
  },
  {
   "cell_type": "markdown",
   "metadata": {},
   "source": [
    "# New Movie Studio#  \n",
    "We have been tasked with coming up with a strategy for how Microsoft should start up a new movie studio to compete in the streaming space. We will look at movie financial data and market condition data to try to come up with some strategic recommendation for microsoft.\n",
    "\n",
    "\n",
    "## Steps In our process: ##\n",
    "\n",
    "\n",
    "1. ### Import and clean our data ###\n",
    "    * Movie Budget data is from https://www.the-numbers.com/movie/budgets/all\n",
    "    * Market data is from https://finance.yahoo.com/quote/SPY?p=SPY&.tsrc=fin-srch  \n",
    "      \n",
    "2. ### Explore data with charts ###\n",
    "    * Looking at summaries is a great way to get a feel for a data set.\n",
    "    * We identified profit percentage as a metric to investigate\n",
    "3. ### Analyze the data ###\n",
    "    * For this data set we analyzed our data for insights mainly by creating and looking at graphs\n",
    "4. ### Use Analysis to make recommendations\n",
    "    * From our graphs we came ups with some concrete recomendations based on budget, compettion, market conditions and season."
   ]
  },
  {
   "cell_type": "markdown",
   "metadata": {},
   "source": [
    "# Exploring the Data #"
   ]
  },
  {
   "cell_type": "markdown",
   "metadata": {},
   "source": [
    "One of the first things we do when exploring new data is to look at some summary statistics to get a feel for what is going on in. Below we have a summary table that gives us a selection of statistics about each of the peices of info we have about the movies in our database.  \n",
    "(All financial numbers are in dollars, and may be recorded in scientific notattion where 4.610445e+08 = $4.610445*10^8$)"
   ]
  },
  {
   "cell_type": "code",
   "execution_count": 2,
   "metadata": {},
   "outputs": [
    {
     "data": {
      "text/html": [
       "<div>\n",
       "<style scoped>\n",
       "    .dataframe tbody tr th:only-of-type {\n",
       "        vertical-align: middle;\n",
       "    }\n",
       "\n",
       "    .dataframe tbody tr th {\n",
       "        vertical-align: top;\n",
       "    }\n",
       "\n",
       "    .dataframe thead th {\n",
       "        text-align: right;\n",
       "    }\n",
       "</style>\n",
       "<table border=\"1\" class=\"dataframe\">\n",
       "  <thead>\n",
       "    <tr style=\"text-align: right;\">\n",
       "      <th></th>\n",
       "      <th>production_budget</th>\n",
       "      <th>domestic_gross</th>\n",
       "      <th>worldwide_gross</th>\n",
       "      <th>domestic_profit</th>\n",
       "      <th>foreign_profit</th>\n",
       "      <th>profit_margin</th>\n",
       "    </tr>\n",
       "  </thead>\n",
       "  <tbody>\n",
       "    <tr>\n",
       "      <th>count</th>\n",
       "      <td>4.319000e+03</td>\n",
       "      <td>4.319000e+03</td>\n",
       "      <td>4.319000e+03</td>\n",
       "      <td>4.319000e+03</td>\n",
       "      <td>4.319000e+03</td>\n",
       "      <td>4319.000000</td>\n",
       "    </tr>\n",
       "    <tr>\n",
       "      <th>mean</th>\n",
       "      <td>3.829418e+07</td>\n",
       "      <td>4.688042e+07</td>\n",
       "      <td>1.069557e+08</td>\n",
       "      <td>8.586241e+06</td>\n",
       "      <td>6.007526e+07</td>\n",
       "      <td>237.705147</td>\n",
       "    </tr>\n",
       "    <tr>\n",
       "      <th>std</th>\n",
       "      <td>4.926475e+07</td>\n",
       "      <td>7.824867e+07</td>\n",
       "      <td>2.004643e+08</td>\n",
       "      <td>5.382597e+07</td>\n",
       "      <td>1.296024e+08</td>\n",
       "      <td>1272.255200</td>\n",
       "    </tr>\n",
       "    <tr>\n",
       "      <th>min</th>\n",
       "      <td>1.341496e+03</td>\n",
       "      <td>0.000000e+00</td>\n",
       "      <td>0.000000e+00</td>\n",
       "      <td>-2.019413e+08</td>\n",
       "      <td>0.000000e+00</td>\n",
       "      <td>-100.000000</td>\n",
       "    </tr>\n",
       "    <tr>\n",
       "      <th>25%</th>\n",
       "      <td>5.517160e+06</td>\n",
       "      <td>6.527113e+05</td>\n",
       "      <td>3.188324e+06</td>\n",
       "      <td>-1.141486e+07</td>\n",
       "      <td>2.039378e+05</td>\n",
       "      <td>-58.897805</td>\n",
       "    </tr>\n",
       "    <tr>\n",
       "      <th>50%</th>\n",
       "      <td>2.048089e+07</td>\n",
       "      <td>1.773963e+07</td>\n",
       "      <td>3.334994e+07</td>\n",
       "      <td>-1.090830e+06</td>\n",
       "      <td>1.118274e+07</td>\n",
       "      <td>54.997616</td>\n",
       "    </tr>\n",
       "    <tr>\n",
       "      <th>75%</th>\n",
       "      <td>4.995903e+07</td>\n",
       "      <td>5.781622e+07</td>\n",
       "      <td>1.144593e+08</td>\n",
       "      <td>1.536255e+07</td>\n",
       "      <td>5.598065e+07</td>\n",
       "      <td>239.418791</td>\n",
       "    </tr>\n",
       "    <tr>\n",
       "      <th>max</th>\n",
       "      <td>4.610445e+08</td>\n",
       "      <td>9.771352e+08</td>\n",
       "      <td>3.011808e+09</td>\n",
       "      <td>6.579130e+08</td>\n",
       "      <td>2.186802e+09</td>\n",
       "      <td>43051.785333</td>\n",
       "    </tr>\n",
       "  </tbody>\n",
       "</table>\n",
       "</div>"
      ],
      "text/plain": [
       "       production_budget  domestic_gross  worldwide_gross  domestic_profit  \\\n",
       "count       4.319000e+03    4.319000e+03     4.319000e+03     4.319000e+03   \n",
       "mean        3.829418e+07    4.688042e+07     1.069557e+08     8.586241e+06   \n",
       "std         4.926475e+07    7.824867e+07     2.004643e+08     5.382597e+07   \n",
       "min         1.341496e+03    0.000000e+00     0.000000e+00    -2.019413e+08   \n",
       "25%         5.517160e+06    6.527113e+05     3.188324e+06    -1.141486e+07   \n",
       "50%         2.048089e+07    1.773963e+07     3.334994e+07    -1.090830e+06   \n",
       "75%         4.995903e+07    5.781622e+07     1.144593e+08     1.536255e+07   \n",
       "max         4.610445e+08    9.771352e+08     3.011808e+09     6.579130e+08   \n",
       "\n",
       "       foreign_profit  profit_margin  \n",
       "count    4.319000e+03    4319.000000  \n",
       "mean     6.007526e+07     237.705147  \n",
       "std      1.296024e+08    1272.255200  \n",
       "min      0.000000e+00    -100.000000  \n",
       "25%      2.039378e+05     -58.897805  \n",
       "50%      1.118274e+07      54.997616  \n",
       "75%      5.598065e+07     239.418791  \n",
       "max      2.186802e+09   43051.785333  "
      ]
     },
     "execution_count": 2,
     "metadata": {},
     "output_type": "execute_result"
    }
   ],
   "source": [
    "movie_data.iloc[:,[2,3,4,5,13,14,15]].describe()"
   ]
  },
  {
   "cell_type": "markdown",
   "metadata": {},
   "source": [
    "Take a look at the profit margin column. The maximum is 43051%, which seems crazy! What is going on here?  \n",
    "Lets take a look at the ten most profitable movies"
   ]
  },
  {
   "cell_type": "code",
   "execution_count": 3,
   "metadata": {},
   "outputs": [
    {
     "data": {
      "text/html": [
       "<div>\n",
       "<style scoped>\n",
       "    .dataframe tbody tr th:only-of-type {\n",
       "        vertical-align: middle;\n",
       "    }\n",
       "\n",
       "    .dataframe tbody tr th {\n",
       "        vertical-align: top;\n",
       "    }\n",
       "\n",
       "    .dataframe thead th {\n",
       "        text-align: right;\n",
       "    }\n",
       "</style>\n",
       "<table border=\"1\" class=\"dataframe\">\n",
       "  <thead>\n",
       "    <tr style=\"text-align: right;\">\n",
       "      <th></th>\n",
       "      <th>release_date</th>\n",
       "      <th>title</th>\n",
       "      <th>production_budget</th>\n",
       "      <th>domestic_profit</th>\n",
       "      <th>foreign_profit</th>\n",
       "      <th>profit_margin</th>\n",
       "    </tr>\n",
       "  </thead>\n",
       "  <tbody>\n",
       "    <tr>\n",
       "      <th>2281</th>\n",
       "      <td>2009-09-25</td>\n",
       "      <td>Paranormal Activity</td>\n",
       "      <td>502978.751942</td>\n",
       "      <td>1.201212e+08</td>\n",
       "      <td>9.642016e+07</td>\n",
       "      <td>43051.785333</td>\n",
       "    </tr>\n",
       "    <tr>\n",
       "      <th>708</th>\n",
       "      <td>2015-07-10</td>\n",
       "      <td>The Gallows</td>\n",
       "      <td>103012.073015</td>\n",
       "      <td>2.334708e+07</td>\n",
       "      <td>1.946111e+07</td>\n",
       "      <td>41556.474000</td>\n",
       "    </tr>\n",
       "    <tr>\n",
       "      <th>3156</th>\n",
       "      <td>2004-05-07</td>\n",
       "      <td>Super Size Me</td>\n",
       "      <td>82309.737875</td>\n",
       "      <td>1.451737e+07</td>\n",
       "      <td>1.355507e+07</td>\n",
       "      <td>34105.858462</td>\n",
       "    </tr>\n",
       "    <tr>\n",
       "      <th>3883</th>\n",
       "      <td>2005-08-05</td>\n",
       "      <td>My Date With Drew</td>\n",
       "      <td>1341.496134</td>\n",
       "      <td>2.194456e+05</td>\n",
       "      <td>0.000000e+00</td>\n",
       "      <td>16358.272727</td>\n",
       "    </tr>\n",
       "    <tr>\n",
       "      <th>1263</th>\n",
       "      <td>2007-05-16</td>\n",
       "      <td>Once</td>\n",
       "      <td>172332.578900</td>\n",
       "      <td>1.067986e+07</td>\n",
       "      <td>1.594395e+07</td>\n",
       "      <td>15449.087333</td>\n",
       "    </tr>\n",
       "    <tr>\n",
       "      <th>3266</th>\n",
       "      <td>2004-10-08</td>\n",
       "      <td>Primer</td>\n",
       "      <td>8864.125617</td>\n",
       "      <td>5.290110e+05</td>\n",
       "      <td>5.282588e+05</td>\n",
       "      <td>11927.514286</td>\n",
       "    </tr>\n",
       "    <tr>\n",
       "      <th>3128</th>\n",
       "      <td>2004-06-11</td>\n",
       "      <td>Napoleon Dynamite</td>\n",
       "      <td>506521.463847</td>\n",
       "      <td>5.589585e+07</td>\n",
       "      <td>2.002985e+06</td>\n",
       "      <td>11430.678250</td>\n",
       "    </tr>\n",
       "    <tr>\n",
       "      <th>3245</th>\n",
       "      <td>2004-08-06</td>\n",
       "      <td>Open Water</td>\n",
       "      <td>633151.829809</td>\n",
       "      <td>3.799023e+07</td>\n",
       "      <td>3.168008e+07</td>\n",
       "      <td>11003.728200</td>\n",
       "    </tr>\n",
       "    <tr>\n",
       "      <th>2755</th>\n",
       "      <td>2006-09-29</td>\n",
       "      <td>Facing the Giants</td>\n",
       "      <td>118269.014701</td>\n",
       "      <td>1.191954e+07</td>\n",
       "      <td>7.667144e+04</td>\n",
       "      <td>10143.159000</td>\n",
       "    </tr>\n",
       "    <tr>\n",
       "      <th>1823</th>\n",
       "      <td>2012-01-06</td>\n",
       "      <td>The Devil Inside</td>\n",
       "      <td>1000000.000000</td>\n",
       "      <td>5.226294e+07</td>\n",
       "      <td>4.849655e+07</td>\n",
       "      <td>10075.949000</td>\n",
       "    </tr>\n",
       "  </tbody>\n",
       "</table>\n",
       "</div>"
      ],
      "text/plain": [
       "     release_date                title  production_budget  domestic_profit  \\\n",
       "2281   2009-09-25  Paranormal Activity      502978.751942     1.201212e+08   \n",
       "708    2015-07-10          The Gallows      103012.073015     2.334708e+07   \n",
       "3156   2004-05-07        Super Size Me       82309.737875     1.451737e+07   \n",
       "3883   2005-08-05    My Date With Drew        1341.496134     2.194456e+05   \n",
       "1263   2007-05-16                 Once      172332.578900     1.067986e+07   \n",
       "3266   2004-10-08               Primer        8864.125617     5.290110e+05   \n",
       "3128   2004-06-11    Napoleon Dynamite      506521.463847     5.589585e+07   \n",
       "3245   2004-08-06           Open Water      633151.829809     3.799023e+07   \n",
       "2755   2006-09-29    Facing the Giants      118269.014701     1.191954e+07   \n",
       "1823   2012-01-06     The Devil Inside     1000000.000000     5.226294e+07   \n",
       "\n",
       "      foreign_profit  profit_margin  \n",
       "2281    9.642016e+07   43051.785333  \n",
       "708     1.946111e+07   41556.474000  \n",
       "3156    1.355507e+07   34105.858462  \n",
       "3883    0.000000e+00   16358.272727  \n",
       "1263    1.594395e+07   15449.087333  \n",
       "3266    5.282588e+05   11927.514286  \n",
       "3128    2.002985e+06   11430.678250  \n",
       "3245    3.168008e+07   11003.728200  \n",
       "2755    7.667144e+04   10143.159000  \n",
       "1823    4.849655e+07   10075.949000  "
      ]
     },
     "execution_count": 3,
     "metadata": {},
     "output_type": "execute_result"
    }
   ],
   "source": [
    "movie_data.iloc[:,[1,2,3,13,14,15]].sort_values(by = ['profit_margin'], ascending=False).head(10)"
   ]
  },
  {
   "cell_type": "markdown",
   "metadata": {},
   "source": [
    "Wow! It looks like there are movies with extremely high profitability, on the order of 10,000 percent. This is something that we want to investigate in order to come up with our movie studio strategy."
   ]
  },
  {
   "cell_type": "markdown",
   "metadata": {},
   "source": [
    "# Exploring Profitability with Graphs #  \n",
    "\n",
    "\n",
    "The first thing we decided to do was constrict our search to only movies from the last ten years, and then just look at the distributions of profitability for each year.\n"
   ]
  },
  {
   "cell_type": "markdown",
   "metadata": {},
   "source": [
    "![Distribution Of Movie Profitability](images/profitability_distribution_year.png) "
   ]
  },
  {
   "cell_type": "markdown",
   "metadata": {},
   "source": [
    "Just by looking at the distribution we can learn a great deal about our data. The vast majority of movies have performance somewhere between being slightly unprofitable and making about two and a half times their budget, while there is always a small percentage of movies each year that make ten, twenty, or even hundreds times their budget. This huge variability in profitability also affects the asymetrical appearance of the chart; you can only lose what you put into a movie production, but the potential profit doesn't have a hard upper limit. We will center our strategy around trying to take advantage of this asymmetry and variability."
   ]
  },
  {
   "cell_type": "markdown",
   "metadata": {},
   "source": [
    "# How can we use our new insight? #\n",
    "\n",
    "Our strategy to try and take advantage of exceptionally profitable movies will be to focus on lower-budget films and hope that we can have one of these exceptionally profitable movies. There are a few reasons for this:  \n",
    "1. Since we are looking at the return on our investment, it is simply not possible to to make expensive movies that make hundreds of times their budget. \n",
    "  * For example, a movie that costs \\\\$200M to make would need to make \\\\$20 Billion to make 100 times the initial investment.\n",
    "2. Focusing on lower-budget films allows us to have granular controll over our risk and spending since because the distribution is so asymetric, the potential loss from any one film is very small. \n",
    "  * Instead of choosing whether to make one or two \\\\$200M movies, we can choose more specifically how much to spend.\n",
    "3. In order to take maximum advantage of the high variability of profitability we should make as many lower-budget films as possible to increase our chances of success.\n",
    "  * The more swings we take, the greater our chances of a home run\n",
    "  \n",
    "Now, lets dig in to the data and try to come up with some more specific recommendations.\n"
   ]
  },
  {
   "cell_type": "markdown",
   "metadata": {},
   "source": [
    "# Effects of Competition #"
   ]
  },
  {
   "cell_type": "markdown",
   "metadata": {},
   "source": [
    "![Competition and Profitability](images/competition.png) "
   ]
  },
  {
   "cell_type": "raw",
   "metadata": {},
   "source": []
  },
  {
   "cell_type": "markdown",
   "metadata": {},
   "source": [
    "Our first avenue of investigation was to look at level of competition movies faced and how that affected their profitability. We also broke this down into Mass Production and Independant movies, because more expensive movies are more often large studio productions, and independant movies tend to have smaller budgets. What this graph shows us is very usefull. We can see that as we increase the amount of competition, the profitability of independant movies severely decreases, while big budget movies are far less affected. Importantly, the *variability* of the independant movie profitability is also decreased, which is very important to our strategy. We suspect this is due to the efficiency of scale and large budgets for advertising enjoyed by elarge, expensive studio productions.  \n",
    "### Since our goal is to hit a home run with a lower budget film, it will be especially important for us to try for less competitive release times. ###"
   ]
  },
  {
   "cell_type": "markdown",
   "metadata": {},
   "source": [
    "# Market Conditions #\n",
    "\n",
    "We also wanted to see if we could use historical S&P 500 data to look at the overall consumer sentiment, and see how that will affect our strategy. "
   ]
  },
  {
   "cell_type": "markdown",
   "metadata": {},
   "source": [
    "![Markets and Profitability](images/market.png) "
   ]
  },
  {
   "cell_type": "markdown",
   "metadata": {},
   "source": [
    "Similarly to the competition graph, we see different behavior here for mass production and independant movies. The profitability for mass production movies is almost unaffected by market condition, while the median and the variability of the profitability is severely decreased for independant movies when consumer sentiment is low. So independant movies are also much more sensitive to consumer sentiment than mass porduction movies. We suspect this is because when consumer sentiment is low and people have less spending money they are more likely to choose large studio movies that are more familiar to them from advertising and brand loyalty.  \n",
    "### It is important to only try this strategy when consumer sentiment is not low ###"
   ]
  },
  {
   "cell_type": "markdown",
   "metadata": {},
   "source": [
    "# Combining our Insights #"
   ]
  },
  {
   "cell_type": "markdown",
   "metadata": {},
   "source": [
    "Once we considered our insights, we realized that there are strong seasonal components to both movie competition and consumer sentiment, so we dedcied to look into seasonal effects on profitability."
   ]
  },
  {
   "cell_type": "markdown",
   "metadata": {},
   "source": [
    "![Seaonality and Profitability](images/bar_spider.png) "
   ]
  },
  {
   "cell_type": "markdown",
   "metadata": {},
   "source": [
    "This graph shows us the seasonality of competition with the red radial bars, and the seasonality of average movie profitability with the orane line and blue shaded area. We can see that competition and bad consumer sentiment combine to make the holiday season a bad time for our strategy, while the best times seem to be the begining and end of the summer season, where there is less competition that in the middle of the season, but consumer sentiment is still high."
   ]
  },
  {
   "cell_type": "markdown",
   "metadata": {},
   "source": [
    "# Recomendations #  \n",
    "\n",
    "1. ### Focus on independent films ###\n",
    "    * Low downside risk with very large upside potential  \n",
    "2. ### Time release to avoid competition ###  \n",
    "3. ### Hold off when the market is bad ###  \n",
    "4. ### Pay attention to seasonality of supply and demand ###\n",
    "    * Identify times of year that have low competition and good market conditions  "
   ]
  }
 ],
 "metadata": {
  "kernelspec": {
   "display_name": "learn-env",
   "language": "python",
   "name": "learn-env"
  },
  "language_info": {
   "codemirror_mode": {
    "name": "ipython",
    "version": 3
   },
   "file_extension": ".py",
   "mimetype": "text/x-python",
   "name": "python",
   "nbconvert_exporter": "python",
   "pygments_lexer": "ipython3",
   "version": "3.7.3"
  }
 },
 "nbformat": 4,
 "nbformat_minor": 2
}
