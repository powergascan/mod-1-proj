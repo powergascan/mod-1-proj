{
 "cells": [
  {
   "cell_type": "code",
   "execution_count": 16,
   "metadata": {},
   "outputs": [],
   "source": [
    "import pandas as pd\n",
    "import numpy as np\n",
    "import matplotlib.pyplot as plt\n",
    "import seaborn as sns\n",
    "%matplotlib inline"
   ]
  },
  {
   "cell_type": "code",
   "execution_count": 93,
   "metadata": {},
   "outputs": [],
   "source": [
    "df=pd.read_csv('zippedData/tn.movie_budgets.csv.gz')\n",
    "df.production_budget=df.production_budget.apply(lambda x: x.strip('$'))\n",
    "df.production_budget=df.production_budget.replace({\",\":''}, regex=True).apply(pd.to_numeric)\n",
    "df.domestic_gross=df.domestic_gross.apply(lambda x: x.strip('$'))\n",
    "df.domestic_gross=df.domestic_gross.replace({\",\":''}, regex=True).apply(pd.to_numeric)\n",
    "df.worldwide_gross=df.worldwide_gross.apply(lambda x: x.strip('$'))\n",
    "df.worldwide_gross=df.worldwide_gross.replace({\",\":''}, regex=True).apply(pd.to_numeric)\n",
    "df['domestic_profit']=df.domestic_gross-df.production_budget\n",
    "df['worldwide_profit']=df.worldwide_gross-df.production_budget\n",
    "df.release_date=pd.to_datetime(df.release_date)\n",
    "df['release_year'] = df['release_date'].dt.to_period('Y')\n"
   ]
  },
  {
   "cell_type": "code",
   "execution_count": 141,
   "metadata": {},
   "outputs": [],
   "source": [
    "bydates=df.sort_values(by = 'release_date')\n",
    "low_cutoff=pd.to_datetime('2000')\n",
    "high_cutoff=pd.to_datetime('2018')\n",
    "bydate_temp=bydates.loc[(bydates.release_date >=low_cutoff)&(bydates.release_date<=high_cutoff)]\n",
    "bydate=bydate_temp\n",
    "# .loc[bydates.domestic_gross!=0]"
   ]
  },
  {
   "cell_type": "code",
   "execution_count": 137,
   "metadata": {},
   "outputs": [],
   "source": [
    "df2=bydate.groupby('release_year')"
   ]
  },
  {
   "cell_type": "code",
   "execution_count": 124,
   "metadata": {},
   "outputs": [
    {
     "name": "stderr",
     "output_type": "stream",
     "text": [
      "/home/will/anaconda3/lib/python3.7/site-packages/ipykernel_launcher.py:1: SettingWithCopyWarning: \n",
      "A value is trying to be set on a copy of a slice from a DataFrame.\n",
      "Try using .loc[row_indexer,col_indexer] = value instead\n",
      "\n",
      "See the caveats in the documentation: http://pandas.pydata.org/pandas-docs/stable/user_guide/indexing.html#returning-a-view-versus-a-copy\n",
      "  \"\"\"Entry point for launching an IPython kernel.\n"
     ]
    }
   ],
   "source": [
    "bydate['profit_margin']=bydate.worldwide_profit/bydate.production_budget"
   ]
  },
  {
   "cell_type": "code",
   "execution_count": 125,
   "metadata": {},
   "outputs": [
    {
     "ename": "SyntaxError",
     "evalue": "invalid syntax (<ipython-input-125-0e8aad86f010>, line 1)",
     "output_type": "error",
     "traceback": [
      "\u001b[0;36m  File \u001b[0;32m\"<ipython-input-125-0e8aad86f010>\"\u001b[0;36m, line \u001b[0;32m1\u001b[0m\n\u001b[0;31m    df2=\u001b[0m\n\u001b[0m        ^\u001b[0m\n\u001b[0;31mSyntaxError\u001b[0m\u001b[0;31m:\u001b[0m invalid syntax\n"
     ]
    }
   ],
   "source": [
    "df2="
   ]
  },
  {
   "cell_type": "code",
   "execution_count": null,
   "metadata": {},
   "outputs": [],
   "source": []
  },
  {
   "cell_type": "code",
   "execution_count": 126,
   "metadata": {},
   "outputs": [
    {
     "data": {
      "image/png": "[encoded data removed]",
      "text/plain": [
       "<Figure size 864x720 with 1 Axes>"
      ]
     },
     "metadata": {
      "needs_background": "light"
     },
     "output_type": "display_data"
    }
   ],
   "source": [
    "plt.figure(figsize=(12,10))\n",
    "plot1 = sns.boxplot(x=\"release_year\", y=\"production_budget\", data=bydate)"
   ]
  },
  {
   "cell_type": "code",
   "execution_count": 127,
   "metadata": {},
   "outputs": [],
   "source": [
    "by_pm_temp=bydate.sort_values(by='profit_margin')"
   ]
  },
  {
   "cell_type": "code",
   "execution_count": 128,
   "metadata": {},
   "outputs": [
    {
     "data": {
      "text/html": [
       "<div>\n",
       "<style scoped>\n",
       "    .dataframe tbody tr th:only-of-type {\n",
       "        vertical-align: middle;\n",
       "    }\n",
       "\n",
       "    .dataframe tbody tr th {\n",
       "        vertical-align: top;\n",
       "    }\n",
       "\n",
       "    .dataframe thead th {\n",
       "        text-align: right;\n",
       "    }\n",
       "</style>\n",
       "<table border=\"1\" class=\"dataframe\">\n",
       "  <thead>\n",
       "    <tr style=\"text-align: right;\">\n",
       "      <th></th>\n",
       "      <th>id</th>\n",
       "      <th>release_date</th>\n",
       "      <th>movie</th>\n",
       "      <th>production_budget</th>\n",
       "      <th>domestic_gross</th>\n",
       "      <th>worldwide_gross</th>\n",
       "      <th>domestic_profit</th>\n",
       "      <th>worldwide_profit</th>\n",
       "      <th>release_year</th>\n",
       "      <th>profit_margin</th>\n",
       "    </tr>\n",
       "  </thead>\n",
       "  <tbody>\n",
       "    <tr>\n",
       "      <th>5211</th>\n",
       "      <td>12</td>\n",
       "      <td>2012-01-06</td>\n",
       "      <td>The Devil Inside</td>\n",
       "      <td>1000000</td>\n",
       "      <td>53262945</td>\n",
       "      <td>101759490</td>\n",
       "      <td>52262945</td>\n",
       "      <td>100759490</td>\n",
       "      <td>2012</td>\n",
       "      <td>100.759490</td>\n",
       "    </tr>\n",
       "    <tr>\n",
       "      <th>5680</th>\n",
       "      <td>81</td>\n",
       "      <td>2006-09-29</td>\n",
       "      <td>Facing the Giants</td>\n",
       "      <td>100000</td>\n",
       "      <td>10178331</td>\n",
       "      <td>10243159</td>\n",
       "      <td>10078331</td>\n",
       "      <td>10143159</td>\n",
       "      <td>2006</td>\n",
       "      <td>101.431590</td>\n",
       "    </tr>\n",
       "    <tr>\n",
       "      <th>5430</th>\n",
       "      <td>31</td>\n",
       "      <td>2004-08-06</td>\n",
       "      <td>Open Water</td>\n",
       "      <td>500000</td>\n",
       "      <td>30500882</td>\n",
       "      <td>55518641</td>\n",
       "      <td>30000882</td>\n",
       "      <td>55018641</td>\n",
       "      <td>2004</td>\n",
       "      <td>110.037282</td>\n",
       "    </tr>\n",
       "    <tr>\n",
       "      <th>5507</th>\n",
       "      <td>8</td>\n",
       "      <td>2004-06-11</td>\n",
       "      <td>Napoleon Dynamite</td>\n",
       "      <td>400000</td>\n",
       "      <td>44540956</td>\n",
       "      <td>46122713</td>\n",
       "      <td>44140956</td>\n",
       "      <td>45722713</td>\n",
       "      <td>2004</td>\n",
       "      <td>114.306782</td>\n",
       "    </tr>\n",
       "    <tr>\n",
       "      <th>5774</th>\n",
       "      <td>75</td>\n",
       "      <td>2004-10-08</td>\n",
       "      <td>Primer</td>\n",
       "      <td>7000</td>\n",
       "      <td>424760</td>\n",
       "      <td>841926</td>\n",
       "      <td>417760</td>\n",
       "      <td>834926</td>\n",
       "      <td>2004</td>\n",
       "      <td>119.275143</td>\n",
       "    </tr>\n",
       "    <tr>\n",
       "      <th>5656</th>\n",
       "      <td>57</td>\n",
       "      <td>2007-05-16</td>\n",
       "      <td>Once</td>\n",
       "      <td>150000</td>\n",
       "      <td>9445857</td>\n",
       "      <td>23323631</td>\n",
       "      <td>9295857</td>\n",
       "      <td>23173631</td>\n",
       "      <td>2007</td>\n",
       "      <td>154.490873</td>\n",
       "    </tr>\n",
       "    <tr>\n",
       "      <th>5781</th>\n",
       "      <td>82</td>\n",
       "      <td>2005-08-05</td>\n",
       "      <td>My Date With Drew</td>\n",
       "      <td>1100</td>\n",
       "      <td>181041</td>\n",
       "      <td>181041</td>\n",
       "      <td>179941</td>\n",
       "      <td>179941</td>\n",
       "      <td>2005</td>\n",
       "      <td>163.582727</td>\n",
       "    </tr>\n",
       "    <tr>\n",
       "      <th>5709</th>\n",
       "      <td>10</td>\n",
       "      <td>2004-05-07</td>\n",
       "      <td>Super Size Me</td>\n",
       "      <td>65000</td>\n",
       "      <td>11529368</td>\n",
       "      <td>22233808</td>\n",
       "      <td>11464368</td>\n",
       "      <td>22168808</td>\n",
       "      <td>2004</td>\n",
       "      <td>341.058585</td>\n",
       "    </tr>\n",
       "    <tr>\n",
       "      <th>5679</th>\n",
       "      <td>80</td>\n",
       "      <td>2015-07-10</td>\n",
       "      <td>The Gallows</td>\n",
       "      <td>100000</td>\n",
       "      <td>22764410</td>\n",
       "      <td>41656474</td>\n",
       "      <td>22664410</td>\n",
       "      <td>41556474</td>\n",
       "      <td>2015</td>\n",
       "      <td>415.564740</td>\n",
       "    </tr>\n",
       "    <tr>\n",
       "      <th>5492</th>\n",
       "      <td>93</td>\n",
       "      <td>2009-09-25</td>\n",
       "      <td>Paranormal Activity</td>\n",
       "      <td>450000</td>\n",
       "      <td>107918810</td>\n",
       "      <td>194183034</td>\n",
       "      <td>107468810</td>\n",
       "      <td>193733034</td>\n",
       "      <td>2009</td>\n",
       "      <td>430.517853</td>\n",
       "    </tr>\n",
       "  </tbody>\n",
       "</table>\n",
       "</div>"
      ],
      "text/plain": [
       "      id release_date                movie  production_budget  domestic_gross  \\\n",
       "5211  12   2012-01-06     The Devil Inside            1000000        53262945   \n",
       "5680  81   2006-09-29    Facing the Giants             100000        10178331   \n",
       "5430  31   2004-08-06           Open Water             500000        30500882   \n",
       "5507   8   2004-06-11    Napoleon Dynamite             400000        44540956   \n",
       "5774  75   2004-10-08               Primer               7000          424760   \n",
       "5656  57   2007-05-16                 Once             150000         9445857   \n",
       "5781  82   2005-08-05    My Date With Drew               1100          181041   \n",
       "5709  10   2004-05-07        Super Size Me              65000        11529368   \n",
       "5679  80   2015-07-10          The Gallows             100000        22764410   \n",
       "5492  93   2009-09-25  Paranormal Activity             450000       107918810   \n",
       "\n",
       "      worldwide_gross  domestic_profit  worldwide_profit release_year  \\\n",
       "5211        101759490         52262945         100759490         2012   \n",
       "5680         10243159         10078331          10143159         2006   \n",
       "5430         55518641         30000882          55018641         2004   \n",
       "5507         46122713         44140956          45722713         2004   \n",
       "5774           841926           417760            834926         2004   \n",
       "5656         23323631          9295857          23173631         2007   \n",
       "5781           181041           179941            179941         2005   \n",
       "5709         22233808         11464368          22168808         2004   \n",
       "5679         41656474         22664410          41556474         2015   \n",
       "5492        194183034        107468810         193733034         2009   \n",
       "\n",
       "      profit_margin  \n",
       "5211     100.759490  \n",
       "5680     101.431590  \n",
       "5430     110.037282  \n",
       "5507     114.306782  \n",
       "5774     119.275143  \n",
       "5656     154.490873  \n",
       "5781     163.582727  \n",
       "5709     341.058585  \n",
       "5679     415.564740  \n",
       "5492     430.517853  "
      ]
     },
     "execution_count": 128,
     "metadata": {},
     "output_type": "execute_result"
    }
   ],
   "source": [
    "by_pm_temp.tail(10)\n"
   ]
  },
  {
   "cell_type": "code",
   "execution_count": 129,
   "metadata": {},
   "outputs": [
    {
     "data": {
      "text/html": [
       "<div>\n",
       "<style scoped>\n",
       "    .dataframe tbody tr th:only-of-type {\n",
       "        vertical-align: middle;\n",
       "    }\n",
       "\n",
       "    .dataframe tbody tr th {\n",
       "        vertical-align: top;\n",
       "    }\n",
       "\n",
       "    .dataframe thead th {\n",
       "        text-align: right;\n",
       "    }\n",
       "</style>\n",
       "<table border=\"1\" class=\"dataframe\">\n",
       "  <thead>\n",
       "    <tr style=\"text-align: right;\">\n",
       "      <th></th>\n",
       "      <th>id</th>\n",
       "      <th>release_date</th>\n",
       "      <th>movie</th>\n",
       "      <th>production_budget</th>\n",
       "      <th>domestic_gross</th>\n",
       "      <th>worldwide_gross</th>\n",
       "      <th>domestic_profit</th>\n",
       "      <th>worldwide_profit</th>\n",
       "      <th>release_year</th>\n",
       "      <th>profit_margin</th>\n",
       "    </tr>\n",
       "  </thead>\n",
       "  <tbody>\n",
       "    <tr>\n",
       "      <th>5765</th>\n",
       "      <td>66</td>\n",
       "      <td>2001-03-09</td>\n",
       "      <td>Dayereh</td>\n",
       "      <td>10000</td>\n",
       "      <td>673780</td>\n",
       "      <td>673780</td>\n",
       "      <td>663780</td>\n",
       "      <td>663780</td>\n",
       "      <td>2001</td>\n",
       "      <td>66.378000</td>\n",
       "    </tr>\n",
       "    <tr>\n",
       "      <th>4247</th>\n",
       "      <td>48</td>\n",
       "      <td>2002-04-19</td>\n",
       "      <td>My Big Fat Greek Wedding</td>\n",
       "      <td>5000000</td>\n",
       "      <td>241438208</td>\n",
       "      <td>374890034</td>\n",
       "      <td>236438208</td>\n",
       "      <td>369890034</td>\n",
       "      <td>2002</td>\n",
       "      <td>73.978007</td>\n",
       "    </tr>\n",
       "    <tr>\n",
       "      <th>5156</th>\n",
       "      <td>57</td>\n",
       "      <td>2004-10-29</td>\n",
       "      <td>Saw</td>\n",
       "      <td>1200000</td>\n",
       "      <td>55968727</td>\n",
       "      <td>103880027</td>\n",
       "      <td>54768727</td>\n",
       "      <td>102680027</td>\n",
       "      <td>2004</td>\n",
       "      <td>85.566689</td>\n",
       "    </tr>\n",
       "    <tr>\n",
       "      <th>5680</th>\n",
       "      <td>81</td>\n",
       "      <td>2006-09-29</td>\n",
       "      <td>Facing the Giants</td>\n",
       "      <td>100000</td>\n",
       "      <td>10178331</td>\n",
       "      <td>10243159</td>\n",
       "      <td>10078331</td>\n",
       "      <td>10143159</td>\n",
       "      <td>2006</td>\n",
       "      <td>101.431590</td>\n",
       "    </tr>\n",
       "    <tr>\n",
       "      <th>5430</th>\n",
       "      <td>31</td>\n",
       "      <td>2004-08-06</td>\n",
       "      <td>Open Water</td>\n",
       "      <td>500000</td>\n",
       "      <td>30500882</td>\n",
       "      <td>55518641</td>\n",
       "      <td>30000882</td>\n",
       "      <td>55018641</td>\n",
       "      <td>2004</td>\n",
       "      <td>110.037282</td>\n",
       "    </tr>\n",
       "    <tr>\n",
       "      <th>5507</th>\n",
       "      <td>8</td>\n",
       "      <td>2004-06-11</td>\n",
       "      <td>Napoleon Dynamite</td>\n",
       "      <td>400000</td>\n",
       "      <td>44540956</td>\n",
       "      <td>46122713</td>\n",
       "      <td>44140956</td>\n",
       "      <td>45722713</td>\n",
       "      <td>2004</td>\n",
       "      <td>114.306782</td>\n",
       "    </tr>\n",
       "    <tr>\n",
       "      <th>5774</th>\n",
       "      <td>75</td>\n",
       "      <td>2004-10-08</td>\n",
       "      <td>Primer</td>\n",
       "      <td>7000</td>\n",
       "      <td>424760</td>\n",
       "      <td>841926</td>\n",
       "      <td>417760</td>\n",
       "      <td>834926</td>\n",
       "      <td>2004</td>\n",
       "      <td>119.275143</td>\n",
       "    </tr>\n",
       "    <tr>\n",
       "      <th>5656</th>\n",
       "      <td>57</td>\n",
       "      <td>2007-05-16</td>\n",
       "      <td>Once</td>\n",
       "      <td>150000</td>\n",
       "      <td>9445857</td>\n",
       "      <td>23323631</td>\n",
       "      <td>9295857</td>\n",
       "      <td>23173631</td>\n",
       "      <td>2007</td>\n",
       "      <td>154.490873</td>\n",
       "    </tr>\n",
       "    <tr>\n",
       "      <th>5781</th>\n",
       "      <td>82</td>\n",
       "      <td>2005-08-05</td>\n",
       "      <td>My Date With Drew</td>\n",
       "      <td>1100</td>\n",
       "      <td>181041</td>\n",
       "      <td>181041</td>\n",
       "      <td>179941</td>\n",
       "      <td>179941</td>\n",
       "      <td>2005</td>\n",
       "      <td>163.582727</td>\n",
       "    </tr>\n",
       "    <tr>\n",
       "      <th>5709</th>\n",
       "      <td>10</td>\n",
       "      <td>2004-05-07</td>\n",
       "      <td>Super Size Me</td>\n",
       "      <td>65000</td>\n",
       "      <td>11529368</td>\n",
       "      <td>22233808</td>\n",
       "      <td>11464368</td>\n",
       "      <td>22168808</td>\n",
       "      <td>2004</td>\n",
       "      <td>341.058585</td>\n",
       "    </tr>\n",
       "  </tbody>\n",
       "</table>\n",
       "</div>"
      ],
      "text/plain": [
       "      id release_date                     movie  production_budget  \\\n",
       "5765  66   2001-03-09                   Dayereh              10000   \n",
       "4247  48   2002-04-19  My Big Fat Greek Wedding            5000000   \n",
       "5156  57   2004-10-29                       Saw            1200000   \n",
       "5680  81   2006-09-29         Facing the Giants             100000   \n",
       "5430  31   2004-08-06                Open Water             500000   \n",
       "5507   8   2004-06-11         Napoleon Dynamite             400000   \n",
       "5774  75   2004-10-08                    Primer               7000   \n",
       "5656  57   2007-05-16                      Once             150000   \n",
       "5781  82   2005-08-05         My Date With Drew               1100   \n",
       "5709  10   2004-05-07             Super Size Me              65000   \n",
       "\n",
       "      domestic_gross  worldwide_gross  domestic_profit  worldwide_profit  \\\n",
       "5765          673780           673780           663780            663780   \n",
       "4247       241438208        374890034        236438208         369890034   \n",
       "5156        55968727        103880027         54768727         102680027   \n",
       "5680        10178331         10243159         10078331          10143159   \n",
       "5430        30500882         55518641         30000882          55018641   \n",
       "5507        44540956         46122713         44140956          45722713   \n",
       "5774          424760           841926           417760            834926   \n",
       "5656         9445857         23323631          9295857          23173631   \n",
       "5781          181041           181041           179941            179941   \n",
       "5709        11529368         22233808         11464368          22168808   \n",
       "\n",
       "     release_year  profit_margin  \n",
       "5765         2001      66.378000  \n",
       "4247         2002      73.978007  \n",
       "5156         2004      85.566689  \n",
       "5680         2006     101.431590  \n",
       "5430         2004     110.037282  \n",
       "5507         2004     114.306782  \n",
       "5774         2004     119.275143  \n",
       "5656         2007     154.490873  \n",
       "5781         2005     163.582727  \n",
       "5709         2004     341.058585  "
      ]
     },
     "execution_count": 129,
     "metadata": {},
     "output_type": "execute_result"
    }
   ],
   "source": [
    "by_pm=by_pm_temp.drop([5679,5492,5211,5459])\n",
    "by_pm.tail(10)"
   ]
  },
  {
   "cell_type": "code",
   "execution_count": 130,
   "metadata": {
    "scrolled": true
   },
   "outputs": [
    {
     "data": {
      "image/png": "[encoded data removed]",
      "text/plain": [
       "<Figure size 864x720 with 1 Axes>"
      ]
     },
     "metadata": {
      "needs_background": "light"
     },
     "output_type": "display_data"
    }
   ],
   "source": [
    "plt.figure(figsize=(12,10))\n",
    "plot2 = sns.boxplot(x=\"release_year\", y=\"profit_margin\", data=by_pm)"
   ]
  },
  {
   "cell_type": "code",
   "execution_count": 131,
   "metadata": {},
   "outputs": [
    {
     "ename": "SyntaxError",
     "evalue": "unexpected EOF while parsing (<ipython-input-131-93cfedf13cf7>, line 1)",
     "output_type": "error",
     "traceback": [
      "\u001b[0;36m  File \u001b[0;32m\"<ipython-input-131-93cfedf13cf7>\"\u001b[0;36m, line \u001b[0;32m1\u001b[0m\n\u001b[0;31m    pd.concat([by_pm[['release_year','domestic_profit','region']],by_pm[['release_year','foreign_profit','region']]\u001b[0m\n\u001b[0m                                                                                                                   ^\u001b[0m\n\u001b[0;31mSyntaxError\u001b[0m\u001b[0;31m:\u001b[0m unexpected EOF while parsing\n"
     ]
    }
   ],
   "source": [
    "pd.concat([by_pm[['release_year','domestic_profit','region']],by_pm[['release_year','foreign_profit','region']]"
   ]
  },
  {
   "cell_type": "code",
   "execution_count": 132,
   "metadata": {},
   "outputs": [],
   "source": [
    "by_pm['prop_int']=by_pm.domestic_gross/by_pm.worldwide_gross"
   ]
  },
  {
   "cell_type": "code",
   "execution_count": 133,
   "metadata": {},
   "outputs": [
    {
     "data": {
      "image/png": "[encoded data removed]",
      "text/plain": [
       "<Figure size 432x288 with 1 Axes>"
      ]
     },
     "metadata": {
      "needs_background": "light"
     },
     "output_type": "display_data"
    }
   ],
   "source": [
    "plot3=sns.scatterplot(x='profit_margin', y='prop_int', data=by_pm)\n",
    "#doesn't look like correlation"
   ]
  },
  {
   "cell_type": "code",
   "execution_count": 134,
   "metadata": {},
   "outputs": [
    {
     "data": {
      "text/plain": [
       "1100"
      ]
     },
     "execution_count": 134,
     "metadata": {},
     "output_type": "execute_result"
    }
   ],
   "source": [
    "by_pm.production_budget.min()"
   ]
  },
  {
   "cell_type": "code",
   "execution_count": 140,
   "metadata": {},
   "outputs": [
    {
     "data": {
      "text/html": [
       "<div>\n",
       "<style scoped>\n",
       "    .dataframe tbody tr th:only-of-type {\n",
       "        vertical-align: middle;\n",
       "    }\n",
       "\n",
       "    .dataframe tbody tr th {\n",
       "        vertical-align: top;\n",
       "    }\n",
       "\n",
       "    .dataframe thead th {\n",
       "        text-align: right;\n",
       "    }\n",
       "</style>\n",
       "<table border=\"1\" class=\"dataframe\">\n",
       "  <thead>\n",
       "    <tr style=\"text-align: right;\">\n",
       "      <th></th>\n",
       "      <th>id</th>\n",
       "      <th>production_budget</th>\n",
       "      <th>domestic_gross</th>\n",
       "      <th>worldwide_gross</th>\n",
       "      <th>domestic_profit</th>\n",
       "      <th>worldwide_profit</th>\n",
       "    </tr>\n",
       "  </thead>\n",
       "  <tbody>\n",
       "    <tr>\n",
       "      <th>count</th>\n",
       "      <td>4174.000000</td>\n",
       "      <td>4.174000e+03</td>\n",
       "      <td>4.174000e+03</td>\n",
       "      <td>4.174000e+03</td>\n",
       "      <td>4.174000e+03</td>\n",
       "      <td>4.174000e+03</td>\n",
       "    </tr>\n",
       "    <tr>\n",
       "      <th>mean</th>\n",
       "      <td>49.953043</td>\n",
       "      <td>3.370586e+07</td>\n",
       "      <td>4.075075e+07</td>\n",
       "      <td>9.402738e+07</td>\n",
       "      <td>7.044893e+06</td>\n",
       "      <td>6.032152e+07</td>\n",
       "    </tr>\n",
       "    <tr>\n",
       "      <th>std</th>\n",
       "      <td>28.532444</td>\n",
       "      <td>4.466330e+07</td>\n",
       "      <td>6.911965e+07</td>\n",
       "      <td>1.800046e+08</td>\n",
       "      <td>4.702671e+07</td>\n",
       "      <td>1.475040e+08</td>\n",
       "    </tr>\n",
       "    <tr>\n",
       "      <th>min</th>\n",
       "      <td>1.000000</td>\n",
       "      <td>1.100000e+03</td>\n",
       "      <td>0.000000e+00</td>\n",
       "      <td>0.000000e+00</td>\n",
       "      <td>-2.019413e+08</td>\n",
       "      <td>-1.104502e+08</td>\n",
       "    </tr>\n",
       "    <tr>\n",
       "      <th>25%</th>\n",
       "      <td>25.000000</td>\n",
       "      <td>5.000000e+06</td>\n",
       "      <td>5.188242e+05</td>\n",
       "      <td>2.507722e+06</td>\n",
       "      <td>-1.000000e+07</td>\n",
       "      <td>-2.282110e+06</td>\n",
       "    </tr>\n",
       "    <tr>\n",
       "      <th>50%</th>\n",
       "      <td>50.000000</td>\n",
       "      <td>1.800000e+07</td>\n",
       "      <td>1.464640e+07</td>\n",
       "      <td>2.849772e+07</td>\n",
       "      <td>-1.000000e+06</td>\n",
       "      <td>7.279374e+06</td>\n",
       "    </tr>\n",
       "    <tr>\n",
       "      <th>75%</th>\n",
       "      <td>74.000000</td>\n",
       "      <td>4.100000e+07</td>\n",
       "      <td>5.095441e+07</td>\n",
       "      <td>9.913259e+07</td>\n",
       "      <td>1.268103e+07</td>\n",
       "      <td>6.145225e+07</td>\n",
       "    </tr>\n",
       "    <tr>\n",
       "      <th>max</th>\n",
       "      <td>100.000000</td>\n",
       "      <td>4.250000e+08</td>\n",
       "      <td>9.366622e+08</td>\n",
       "      <td>2.776345e+09</td>\n",
       "      <td>6.306622e+08</td>\n",
       "      <td>2.351345e+09</td>\n",
       "    </tr>\n",
       "  </tbody>\n",
       "</table>\n",
       "</div>"
      ],
      "text/plain": [
       "                id  production_budget  domestic_gross  worldwide_gross  \\\n",
       "count  4174.000000       4.174000e+03    4.174000e+03     4.174000e+03   \n",
       "mean     49.953043       3.370586e+07    4.075075e+07     9.402738e+07   \n",
       "std      28.532444       4.466330e+07    6.911965e+07     1.800046e+08   \n",
       "min       1.000000       1.100000e+03    0.000000e+00     0.000000e+00   \n",
       "25%      25.000000       5.000000e+06    5.188242e+05     2.507722e+06   \n",
       "50%      50.000000       1.800000e+07    1.464640e+07     2.849772e+07   \n",
       "75%      74.000000       4.100000e+07    5.095441e+07     9.913259e+07   \n",
       "max     100.000000       4.250000e+08    9.366622e+08     2.776345e+09   \n",
       "\n",
       "       domestic_profit  worldwide_profit  \n",
       "count     4.174000e+03      4.174000e+03  \n",
       "mean      7.044893e+06      6.032152e+07  \n",
       "std       4.702671e+07      1.475040e+08  \n",
       "min      -2.019413e+08     -1.104502e+08  \n",
       "25%      -1.000000e+07     -2.282110e+06  \n",
       "50%      -1.000000e+06      7.279374e+06  \n",
       "75%       1.268103e+07      6.145225e+07  \n",
       "max       6.306622e+08      2.351345e+09  "
      ]
     },
     "execution_count": 140,
     "metadata": {},
     "output_type": "execute_result"
    }
   ],
   "source": [
    "bydate.describe()"
   ]
  },
  {
   "cell_type": "code",
   "execution_count": null,
   "metadata": {},
   "outputs": [],
   "source": []
  },
  {
   "cell_type": "code",
   "execution_count": null,
   "metadata": {},
   "outputs": [],
   "source": []
  }
 ],
 "metadata": {
  "kernelspec": {
   "display_name": "learn-env",
   "language": "python",
   "name": "learn-env"
  },
  "language_info": {
   "codemirror_mode": {
    "name": "ipython",
    "version": 3
   },
   "file_extension": ".py",
   "mimetype": "text/x-python",
   "name": "python",
   "nbconvert_exporter": "python",
   "pygments_lexer": "ipython3",
   "version": "3.7.3"
  }
 },
 "nbformat": 4,
 "nbformat_minor": 2
}
