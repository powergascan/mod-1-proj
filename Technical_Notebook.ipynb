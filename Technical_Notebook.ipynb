{
 "cells": [
  {
   "cell_type": "code",
   "execution_count": 6,
   "metadata": {},
   "outputs": [],
   "source": [
    "import os\n",
    "from math import pi\n",
    "import matplotlib.pyplot as plt\n",
    "import seaborn as sns\n",
    "import pandas as pd\n",
    "import numpy as np\n",
    "import pickle\n",
    "%matplotlib inline\n",
    "#set directory to ZippedData\n",
    "#os.chdir(r\"zippedData\")"
   ]
  },
  {
   "cell_type": "code",
   "execution_count": null,
   "metadata": {
    "scrolled": false
   },
   "outputs": [],
   "source": [
    "#load files\n",
    "movie_budget=pd.read_csv(\"tn.movie_budgets.csv.gz\") #budget and gross revenue of movies\n",
    "spy_monthly=pd.read_csv(\"SPY.csv\") #stock market monthly returns\n",
    "GDP=pd.read_csv('GDP_DEF.csv') #GDP deflator to adjust numbers by inflation"
   ]
  },
  {
   "cell_type": "code",
   "execution_count": null,
   "metadata": {},
   "outputs": [],
   "source": [
    "#dealing with dates and trim off 2019\n",
    "movie_budget.rename(columns={\"movie\":\"title\"}, inplace=True)\n",
    "movie_budget['release_date']=pd.to_datetime(movie_budget['release_date'])\n",
    "movie_budget['view_date']=movie_budget.release_date+pd.offsets.MonthBegin(1)\n",
    "movie_budget['year']=movie_budget['view_date'].dt.year\n",
    "movie_budget=movie_budget[movie_budget['year']<=2018]"
   ]
  },
  {
   "cell_type": "code",
   "execution_count": null,
   "metadata": {
    "scrolled": true
   },
   "outputs": [],
   "source": [
    "#spy_monthly contains dates only beyond 2000, by default the merged file has a time frame between 2000 to 2018\n",
    "spy_monthly['view_date']=pd.to_datetime(spy_monthly['Date'])\n",
    "spy_monthly.sort_values([\"view_date\"],inplace=True)\n",
    "spy_monthly['percent_return_month']=(spy_monthly['Adj Close'].shift(-1)-spy_monthly['Adj Close'])/spy_monthly['Adj Close']*100\n",
    "spy_monthly['percent_return_rolling']=spy_monthly.percent_return_month.rolling(2).mean()\n",
    "spy_monthly['market_condition']=pd.cut(spy_monthly['percent_return_rolling'], bins=3, labels=['Low','Medium','High'])\n",
    "movie_budget=movie_budget.merge(spy_monthly[['view_date','percent_return_month','percent_return_rolling',\"market_condition\"]], on=\"view_date\")\n",
    "movie_budget=movie_budget.merge(GDP, on='year')"
   ]
  },
  {
   "cell_type": "code",
   "execution_count": null,
   "metadata": {
    "scrolled": true
   },
   "outputs": [],
   "source": [
    "to_replace_list=[\"domestic_gross\",\"worldwide_gross\",\"production_budget\"]\n",
    "for i in to_replace_list:\n",
    "    movie_budget[i]=movie_budget[i].str.replace(r\"$\",\"\")\n",
    "    movie_budget[i]=movie_budget[i].str.replace(r\",\",\"\")"
   ]
  },
  {
   "cell_type": "code",
   "execution_count": null,
   "metadata": {},
   "outputs": [],
   "source": [
    "for i in to_replace_list:\n",
    "    movie_budget[i]=movie_budget[i].astype(\"int64\")/movie_budget['nondurable_goods_expenditure']*100"
   ]
  },
  {
   "cell_type": "code",
   "execution_count": null,
   "metadata": {},
   "outputs": [],
   "source": [
    "movie_budget['domestic_profit']=(movie_budget['domestic_gross']-movie_budget['production_budget'])\n",
    "movie_budget['foreign_profit']=(movie_budget['worldwide_gross']-movie_budget['domestic_gross'])\n",
    "movie_budget['profit_margin']=(movie_budget['worldwide_gross']-movie_budget['production_budget'])/(movie_budget['production_budget'])*100\n",
    "movie_budget['domestic_margin']=(movie_budget['domestic_profit'])/(movie_budget['production_budget'])*100\n",
    "movie_budget['foreign_margin']=(movie_budget['foreign_profit'])/(movie_budget['production_budget'])*100"
   ]
  },
  {
   "cell_type": "code",
   "execution_count": null,
   "metadata": {},
   "outputs": [],
   "source": [
    "movie_budget['production_budget_rank']=movie_budget.groupby(['year'])['production_budget'].rank(pct=True)\n",
    "movie_budget['budget_size']=pd.cut(movie_budget['production_budget_rank'], bins=2, labels=[\"Independent\",\"Mass Production\"])\n",
    "movie_budget['count']=movie_budget.groupby(['view_date'])['title'].transform(\"count\")\n",
    "movie_budget['competition_size']=pd.cut(movie_budget['count'], bins=4, \\\n",
    "                                   labels=['Low','Moderately Low','Moderately High','High'])"
   ]
  },
  {
   "cell_type": "code",
   "execution_count": null,
   "metadata": {},
   "outputs": [],
   "source": [
    "movie_budget.hist('count',by=\"budget_size\")\n",
    "movie_budget.to_pickle(r\"..//merged_file.pickle\")"
   ]
  },
  {
   "cell_type": "code",
   "execution_count": 7,
   "metadata": {
    "scrolled": true
   },
   "outputs": [
    {
     "ename": "FileNotFoundError",
     "evalue": "[Errno 2] No such file or directory: 'merged_file.pickle'",
     "output_type": "error",
     "traceback": [
      "\u001b[0;31m---------------------------------------------------------------------------\u001b[0m",
      "\u001b[0;31mFileNotFoundError\u001b[0m                         Traceback (most recent call last)",
      "\u001b[0;32m<ipython-input-7-afb317187d3b>\u001b[0m in \u001b[0;36m<module>\u001b[0;34m()\u001b[0m\n\u001b[0;32m----> 1\u001b[0;31m \u001b[0mmovie_budget\u001b[0m\u001b[0;34m=\u001b[0m\u001b[0mpickle\u001b[0m\u001b[0;34m.\u001b[0m\u001b[0mload\u001b[0m\u001b[0;34m(\u001b[0m\u001b[0mopen\u001b[0m\u001b[0;34m(\u001b[0m\u001b[0;34m\"merged_file.pickle\"\u001b[0m\u001b[0;34m,\u001b[0m\u001b[0;34m\"rb\"\u001b[0m\u001b[0;34m)\u001b[0m\u001b[0;34m)\u001b[0m\u001b[0;34m\u001b[0m\u001b[0m\n\u001b[0m",
      "\u001b[0;31mFileNotFoundError\u001b[0m: [Errno 2] No such file or directory: 'merged_file.pickle'"
     ]
    }
   ],
   "source": [
    "movie_budget=pickle.load(open(\"merged_file.pickle\",\"rb\"))"
   ]
  },
  {
   "cell_type": "code",
   "execution_count": null,
   "metadata": {
    "scrolled": true
   },
   "outputs": [],
   "source": [
    "plt.clf()\n",
    "plt.figure(figsize=(18, 12))\n",
    "sns.boxplot('competition_size','profit_margin', data=movie_budget, hue=\"budget_size\", showfliers=False)\n",
    "plt.xlabel(\"Competition Level\", size=20)\n",
    "plt.ylabel(\"Profitability\", size=20)\n",
    "plt.legend(fontsize=\"xx-large\")\n",
    "plt.title(\"Competition and Profitability for Independent vs Mass Production Movies\", size=30)\n",
    "plt.savefig(\"..\\\\competition and profitability.png\")"
   ]
  },
  {
   "cell_type": "code",
   "execution_count": null,
   "metadata": {},
   "outputs": [],
   "source": [
    "plt.clf()\n",
    "plt.figure(figsize=(18, 12))\n",
    "sns.boxplot('market_condition','domestic_margin', data=movie_budget, hue=\"budget_size\", showfliers=False)\n",
    "plt.xlabel(\"Market Condition\", size=20)\n",
    "plt.ylabel(\"Profitability\", size=20)\n",
    "plt.legend(fontsize=\"xx-large\")\n",
    "plt.title(\"Market Condition and Profitability for Independent vs Mass Production Movies\", size=30)\n",
    "plt.savefig(\"..\\\\Market and profitability.png\")"
   ]
  },
  {
   "cell_type": "code",
   "execution_count": null,
   "metadata": {},
   "outputs": [],
   "source": [
    "movie_budget['month']=movie_budget.view_date.dt.strftime(\"%B\")\n",
    "movie_budget['month_num']=movie_budget.view_date.dt.month\n",
    "movie_budget_agg=movie_budget.groupby(\"month\").\\\n",
    "        agg({\"title\":\"count\",\"profit_margin\":\"mean\",\"month_num\":\"min\"}).reset_index()\n",
    "movie_budget_agg=movie_budget_agg.sort_values(\"month_num\")"
   ]
  },
  {
   "cell_type": "code",
   "execution_count": null,
   "metadata": {},
   "outputs": [],
   "source": [
    "movie_budget_agg"
   ]
  },
  {
   "cell_type": "code",
   "execution_count": null,
   "metadata": {},
   "outputs": [],
   "source": [
    "plt.clf()\n",
    "plt.figure(figsize=(18,12))\n",
    "bottom = 8\n",
    "max_height = 4\n",
    "N=12\n",
    "theta = [n / float(N) * 2 * pi for n in range(N)]\n",
    "width = (2*pi) / N\n",
    "\n",
    "radii=movie_budget_agg[\"title\"].to_list()\n",
    "radiii=movie_budget_agg[\"profit_margin\"].to_list()\n",
    "ax = plt.subplot(111, polar=True)\n",
    "\n",
    "bars = ax.bar(theta, radii, width=width, bottom=bottom, label='# of Movie Release')\n",
    "ax.plot(theta, radiii, linewidth=2, linestyle='solid',color=\"orange\", label='Average Movie Profitability')\n",
    "ax.plot([theta[-1],theta[0]], [radiii[-1],radiii[0]], linewidth=2, linestyle='solid', color=\"orange\")\n",
    "plt.xticks(theta, movie_budget_agg[\"month\"], color='grey', size=20)\n",
    "plt.fill(theta, radiii, 'b', alpha=0.1)\n",
    "\n",
    "# Use custom colors and opacity\n",
    "for r, bar in zip(radii, bars):\n",
    "    bar.set_facecolor(plt.cm.jet(r / 10.))\n",
    "    bar.set_alpha(0.7)\n",
    "\n",
    "ax.legend(fontsize=\"xx-large\")\n",
    "plt.title(\"Number of Movie Release vs. Profitability\", size=30)\n",
    "plt.savefig(\"..//release_profitability_month.png\")"
   ]
  },
  {
   "cell_type": "code",
   "execution_count": null,
   "metadata": {},
   "outputs": [],
   "source": []
  }
 ],
 "metadata": {
  "kernelspec": {
   "display_name": "Python 3",
   "language": "python",
   "name": "python3"
  },
  "language_info": {
   "codemirror_mode": {
    "name": "ipython",
    "version": 3
   },
   "file_extension": ".py",
   "mimetype": "text/x-python",
   "name": "python",
   "nbconvert_exporter": "python",
   "pygments_lexer": "ipython3",
   "version": "3.6.6"
  }
 },
 "nbformat": 4,
 "nbformat_minor": 2
}
